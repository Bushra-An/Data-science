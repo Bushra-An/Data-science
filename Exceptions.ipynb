{
 "cells": [
  {
   "cell_type": "code",
   "execution_count": 1,
   "id": "20f764ce-2f7d-4644-9bf8-437e5de5252e",
   "metadata": {},
   "outputs": [
    {
     "ename": "SyntaxError",
     "evalue": "expected ':' (1825352391.py, line 4)",
     "output_type": "error",
     "traceback": [
      "\u001b[1;36m  Cell \u001b[1;32mIn[1], line 4\u001b[1;36m\u001b[0m\n\u001b[1;33m    if(x>13)\u001b[0m\n\u001b[1;37m            ^\u001b[0m\n\u001b[1;31mSyntaxError\u001b[0m\u001b[1;31m:\u001b[0m expected ':'\n"
     ]
    }
   ],
   "source": [
    "#different types of Errors\n",
    "\n",
    "x=10\n",
    "if(x>13)\n",
    "print(\"Hello\")"
   ]
  },
  {
   "cell_type": "code",
   "execution_count": 2,
   "id": "db841fd5-e680-4654-b8ea-27a37824357a",
   "metadata": {},
   "outputs": [
    {
     "ename": "ZeroDivisionError",
     "evalue": "division by zero",
     "output_type": "error",
     "traceback": [
      "\u001b[1;31m---------------------------------------------------------------------------\u001b[0m",
      "\u001b[1;31mZeroDivisionError\u001b[0m                         Traceback (most recent call last)",
      "Cell \u001b[1;32mIn[2], line 2\u001b[0m\n\u001b[0;32m      1\u001b[0m number \u001b[38;5;241m=\u001b[39m \u001b[38;5;241m10\u001b[39m\n\u001b[1;32m----> 2\u001b[0m a \u001b[38;5;241m=\u001b[39m number\u001b[38;5;241m/\u001b[39m\u001b[38;5;241m0\u001b[39m\n\u001b[0;32m      3\u001b[0m \u001b[38;5;28mprint\u001b[39m(a)\n",
      "\u001b[1;31mZeroDivisionError\u001b[0m: division by zero"
     ]
    }
   ],
   "source": [
    "number = 10\n",
    "a = number/0\n",
    "print(a)"
   ]
  },
  {
   "cell_type": "code",
   "execution_count": 3,
   "id": "57a2ea28-b9d0-4325-ba76-7216a16e3394",
   "metadata": {},
   "outputs": [
    {
     "ename": "TypeError",
     "evalue": "can only concatenate str (not \"int\") to str",
     "output_type": "error",
     "traceback": [
      "\u001b[1;31m---------------------------------------------------------------------------\u001b[0m",
      "\u001b[1;31mTypeError\u001b[0m                                 Traceback (most recent call last)",
      "Cell \u001b[1;32mIn[3], line 2\u001b[0m\n\u001b[0;32m      1\u001b[0m a\u001b[38;5;241m=\u001b[39m\u001b[38;5;241m5\u001b[39m\n\u001b[1;32m----> 2\u001b[0m b\u001b[38;5;241m=\u001b[39m \u001b[38;5;124m\"\u001b[39m\u001b[38;5;124mpython\u001b[39m\u001b[38;5;124m\"\u001b[39m\u001b[38;5;241m+\u001b[39ma\n\u001b[0;32m      3\u001b[0m \u001b[38;5;28mprint\u001b[39m(b)\n",
      "\u001b[1;31mTypeError\u001b[0m: can only concatenate str (not \"int\") to str"
     ]
    }
   ],
   "source": [
    "a=5\n",
    "b= \"python\"+a\n",
    "print(b)"
   ]
  },
  {
   "cell_type": "code",
   "execution_count": 1,
   "id": "94a82acf-a87a-49dd-b2b3-89f9fb25d7ab",
   "metadata": {},
   "outputs": [
    {
     "name": "stdout",
     "output_type": "stream",
     "text": [
      "Error:Division by zero!\n"
     ]
    }
   ],
   "source": [
    "#Basic Exception handling\n",
    "try:\n",
    "    x=5/0\n",
    "except:\n",
    "    print(\"Error:Division by zero!\")"
   ]
  },
  {
   "cell_type": "code",
   "execution_count": 3,
   "id": "db8ed007-06be-4081-a62f-eaebdeed8483",
   "metadata": {},
   "outputs": [
    {
     "name": "stdout",
     "output_type": "stream",
     "text": [
      "Error:Cannot add an int and a str\n"
     ]
    }
   ],
   "source": [
    "x=5\n",
    "y=\"hello\"\n",
    "try:\n",
    "    z=x+y\n",
    "except:\n",
    "    print(\"Error:Cannot add an int and a str\")"
   ]
  },
  {
   "cell_type": "code",
   "execution_count": 4,
   "id": "89228354-90e6-4d0e-af59-5df5553408a6",
   "metadata": {},
   "outputs": [
    {
     "name": "stdout",
     "output_type": "stream",
     "text": [
      "Second Element = 2\n",
      "An error occurred\n"
     ]
    }
   ],
   "source": [
    "a=[1,2,3]\n",
    "try:\n",
    "    print(\"Second Element = %d\" %(a[1]))\n",
    "    print(\"Second Element = %d\" %(a[3]))\n",
    "except:\n",
    "          print(\"An error occurred\")"
   ]
  },
  {
   "cell_type": "code",
   "execution_count": 10,
   "id": "9e3f0872-0f78-4c17-b0a6-57b4cb9aa45c",
   "metadata": {},
   "outputs": [
    {
     "name": "stdout",
     "output_type": "stream",
     "text": [
      "The index and element from the array is 0 python\n",
      "The index and element from the array is 1 Exception\n",
      "The index and element from the array is 2 try and except\n",
      "Index out of range\n"
     ]
    }
   ],
   "source": [
    "a = [\"python\",\"Exception\",\"try and except\"]\n",
    "try:\n",
    "    for i in range(4):\n",
    "        print(\"The index and element from the array is\", i, a[i])\n",
    "except:\n",
    "    print(\"Index out of range\")"
   ]
  },
  {
   "cell_type": "code",
   "execution_count": 6,
   "id": "04783362-e990-42e1-848e-3098ae183098",
   "metadata": {},
   "outputs": [
    {
     "name": "stdin",
     "output_type": "stream",
     "text": [
      "Enter a number: 4\n"
     ]
    },
    {
     "name": "stdout",
     "output_type": "stream",
     "text": [
      "Result: 2.5\n"
     ]
    }
   ],
   "source": [
    "try:\n",
    "    x= int(input(\"Enter a number:\"))\n",
    "    result=10/x\n",
    "except ValueError:\n",
    "    print(\"Error:Invalid input! please enter a valid number\")\n",
    "except ZeroDivisionError:\n",
    "    print(\"Error: Division by zero\")\n",
    "else:\n",
    "    print(\"Result:\",result)"
   ]
  },
  {
   "cell_type": "code",
   "execution_count": 8,
   "id": "d3bfefb5-66b1-4a28-9dae-9b1fd165e20b",
   "metadata": {},
   "outputs": [
    {
     "name": "stdin",
     "output_type": "stream",
     "text": [
      "Enter a number: 0\n"
     ]
    },
    {
     "name": "stdout",
     "output_type": "stream",
     "text": [
      "division by zero\n"
     ]
    }
   ],
   "source": [
    "try:\n",
    "    num = int(input(\"Enter a number:\"))\n",
    "    reciprocal = 1/num\n",
    "except (ZeroDivisionError,ValueError) as a:\n",
    "    print(a)\n",
    "else:\n",
    "    print(reciprocal)"
   ]
  },
  {
   "cell_type": "code",
   "execution_count": 9,
   "id": "75a46983-24ec-40ad-a9f8-379c2185bee4",
   "metadata": {},
   "outputs": [
    {
     "name": "stdout",
     "output_type": "stream",
     "text": [
      "Average 2.0\n",
      "Error: List is empty!\n",
      "Error: unsupported operand type(s) for +: 'int' and 'str'\n"
     ]
    }
   ],
   "source": [
    "def calculate_average(number):\n",
    "    try:\n",
    "        if not number:\n",
    "            raise ValueError(\"List is empty!\")\n",
    "        avg= sum(number)/len(number)\n",
    "    except ValueError as ve:\n",
    "        print(\"Error:\",ve)\n",
    "    except TypeError as te:\n",
    "        print(\"Error:\",te)\n",
    "    else:\n",
    "        print(\"Average\", avg)\n",
    "         \n",
    "calculate_average([1,2,3])\n",
    "calculate_average([])\n",
    "calculate_average([1,2,'Two'])"
   ]
  },
  {
   "cell_type": "code",
   "execution_count": 10,
   "id": "cb3cd7e2-446e-4b8c-81fd-833bf3e4cebe",
   "metadata": {},
   "outputs": [
    {
     "name": "stdout",
     "output_type": "stream",
     "text": [
      "Error: Denominator cannot be 0\n",
      "This is finally block\n"
     ]
    }
   ],
   "source": [
    "try:\n",
    "    n=10\n",
    "    d=0\n",
    "    r=n/d\n",
    "    print(r)\n",
    "except:\n",
    "    print(\"Error: Denominator cannot be 0\")\n",
    "finally:\n",
    "    print(\"This is finally block\")"
   ]
  },
  {
   "cell_type": "code",
   "execution_count": 28,
   "id": "5640ab14-5857-4ed3-b4fd-20273916bb14",
   "metadata": {},
   "outputs": [
    {
     "name": "stdout",
     "output_type": "stream",
     "text": [
      "An exception\n",
      "hi there\n"
     ]
    }
   ],
   "source": [
    "try:\n",
    "    raise NameError(\"hi there\")\n",
    "except NameError as name:\n",
    "    print(\"An exception\")\n",
    "    print(name)"
   ]
  },
  {
   "cell_type": "code",
   "execution_count": 11,
   "id": "adad6363-12b9-4055-9add-bd09c7dc3604",
   "metadata": {},
   "outputs": [
    {
     "ename": "CustomError",
     "evalue": "This is custom error message",
     "output_type": "error",
     "traceback": [
      "\u001b[1;31m---------------------------------------------------------------------------\u001b[0m",
      "\u001b[1;31mCustomError\u001b[0m                               Traceback (most recent call last)",
      "Cell \u001b[1;32mIn[11], line 3\u001b[0m\n\u001b[0;32m      1\u001b[0m \u001b[38;5;28;01mclass\u001b[39;00m \u001b[38;5;21;01mCustomError\u001b[39;00m(\u001b[38;5;167;01mException\u001b[39;00m):\n\u001b[0;32m      2\u001b[0m     \u001b[38;5;28;01mpass\u001b[39;00m\n\u001b[1;32m----> 3\u001b[0m \u001b[38;5;28;01mraise\u001b[39;00m CustomError(\u001b[38;5;124m\"\u001b[39m\u001b[38;5;124mThis is custom error message\u001b[39m\u001b[38;5;124m\"\u001b[39m)\n",
      "\u001b[1;31mCustomError\u001b[0m: This is custom error message"
     ]
    }
   ],
   "source": [
    "class CustomError(Exception):\n",
    "    pass\n",
    "raise CustomError(\"This is custom error message\")"
   ]
  },
  {
   "cell_type": "code",
   "execution_count": 12,
   "id": "de7b1b7d-6ce1-45e7-8d5c-41c510c9557c",
   "metadata": {},
   "outputs": [
    {
     "name": "stdout",
     "output_type": "stream",
     "text": [
      "Caught CustomError: This is a custom error message\n"
     ]
    }
   ],
   "source": [
    "try:\n",
    "    raise CustomError(\"This is a custom error message\")\n",
    "except CustomError as e:\n",
    "    print(\"Caught CustomError:\",e)"
   ]
  },
  {
   "cell_type": "code",
   "execution_count": 14,
   "id": "3daaeb01-1a67-4038-8fb9-59abea98505a",
   "metadata": {},
   "outputs": [
    {
     "data": {
      "text/plain": [
       "<sqlite3.Cursor at 0x20e4a5bd4c0>"
      ]
     },
     "execution_count": 14,
     "metadata": {},
     "output_type": "execute_result"
    }
   ],
   "source": [
    "import sqlite3\n",
    "db = sqlite3.connect(\"stud.db\")\n",
    "cursor = db.cursor()\n",
    "cursor.execute('''CREATE TABLE emp1(\n",
    "                id INT PRIMARY KEY,\n",
    "                empname TEXT)''')\n"
   ]
  },
  {
   "cell_type": "code",
   "execution_count": 18,
   "id": "6be45454-960e-402a-89b0-4e96466fdb2c",
   "metadata": {},
   "outputs": [
    {
     "data": {
      "text/plain": [
       "<sqlite3.Cursor at 0x20e4a5bd4c0>"
      ]
     },
     "execution_count": 18,
     "metadata": {},
     "output_type": "execute_result"
    }
   ],
   "source": [
    "cursor.execute(\"INSERT INTO emp1 VALUES(108,'Bushra')\")"
   ]
  },
  {
   "cell_type": "code",
   "execution_count": 19,
   "id": "348f3408-df21-42c6-9919-38e2628e86bd",
   "metadata": {},
   "outputs": [],
   "source": [
    "db.commit()"
   ]
  },
  {
   "cell_type": "code",
   "execution_count": 25,
   "id": "f77915e8-3e95-427a-8b40-6556a7fbdba3",
   "metadata": {},
   "outputs": [
    {
     "name": "stdout",
     "output_type": "stream",
     "text": [
      "(102, 'Nikhat')\n",
      "(108, 'Bushra')\n",
      "(104, 'Fathima')\n",
      "--------------------------------------------------------------------------------\n"
     ]
    }
   ],
   "source": [
    "row = cursor.execute(\"Select * from emp1\")\n",
    "for i in row:\n",
    "    print(i)\n",
    "print(\"-\" * 80)"
   ]
  },
  {
   "cell_type": "code",
   "execution_count": 24,
   "id": "0bfa3742-2ce7-44f2-9112-e0f1eadb34e7",
   "metadata": {},
   "outputs": [],
   "source": [
    "cursor.execute(\"INSERT INTO emp1 VALUES(104,'Fathima')\")\n",
    "db.commit()"
   ]
  },
  {
   "cell_type": "code",
   "execution_count": null,
   "id": "1227b1ed-be79-49f2-9841-4aee1ff562d1",
   "metadata": {},
   "outputs": [],
   "source": []
  }
 ],
 "metadata": {
  "kernelspec": {
   "display_name": "Python 3 (ipykernel)",
   "language": "python",
   "name": "python3"
  },
  "language_info": {
   "codemirror_mode": {
    "name": "ipython",
    "version": 3
   },
   "file_extension": ".py",
   "mimetype": "text/x-python",
   "name": "python",
   "nbconvert_exporter": "python",
   "pygments_lexer": "ipython3",
   "version": "3.11.7"
  }
 },
 "nbformat": 4,
 "nbformat_minor": 5
}
